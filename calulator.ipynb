{
 "cells": [
  {
   "cell_type": "code",
   "execution_count": 2,
   "id": "71c22ab8-a621-4975-8b8b-105bd6c9410e",
   "metadata": {},
   "outputs": [
    {
     "name": "stdin",
     "output_type": "stream",
     "text": [
      "Enter the 1st number 4580\n",
      "operator you want to choose /\n",
      "Enter the second number 6\n"
     ]
    },
    {
     "name": "stdout",
     "output_type": "stream",
     "text": [
      "763.3333333333334\n"
     ]
    }
   ],
   "source": [
    "a = float(input(\"Enter the 1st number\"))\n",
    "c = input(\"operator you want to choose\")        \n",
    "b = float(input(\"Enter the second number\"))\n",
    "if c == \"+\" :\n",
    "    print(a+b)\n",
    "\n",
    "if c== \"-\" :\n",
    "    print(a-b)\n",
    "\n",
    "if c == \"*\" :\n",
    "    print(a*b)\n",
    "\n",
    "if c == \"/\" :\n",
    "    print(a/b)\n"
   ]
  },
  {
   "cell_type": "code",
   "execution_count": null,
   "id": "78cc07fc-37dc-41cb-96c5-936b6caf9089",
   "metadata": {},
   "outputs": [],
   "source": []
  }
 ],
 "metadata": {
  "kernelspec": {
   "display_name": "Python 3 (ipykernel)",
   "language": "python",
   "name": "python3"
  },
  "language_info": {
   "codemirror_mode": {
    "name": "ipython",
    "version": 3
   },
   "file_extension": ".py",
   "mimetype": "text/x-python",
   "name": "python",
   "nbconvert_exporter": "python",
   "pygments_lexer": "ipython3",
   "version": "3.12.7"
  }
 },
 "nbformat": 4,
 "nbformat_minor": 5
}
